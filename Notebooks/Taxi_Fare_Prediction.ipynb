{
 "cells": [
  {
   "cell_type": "code",
   "execution_count": 1,
   "id": "d2043e9c",
   "metadata": {},
   "outputs": [],
   "source": [
    "import pandas as pd"
   ]
  },
  {
   "cell_type": "code",
   "execution_count": 2,
   "id": "598f0a3b",
   "metadata": {},
   "outputs": [],
   "source": [
    "### Utility Functions\n",
    "from IPython.display import display, HTML\n",
    "import pandas as pd\n",
    "import sqlite3\n",
    "from sqlite3 import Error\n",
    "\n",
    "def create_connection(db_file, delete_db=False):\n",
    "    import os\n",
    "    if delete_db and os.path.exists(db_file):\n",
    "        os.remove(db_file)\n",
    "\n",
    "    conn = None\n",
    "    try:\n",
    "        conn = sqlite3.connect(db_file)\n",
    "        conn.execute(\"PRAGMA foreign_keys = 1\")\n",
    "    except Error as e:\n",
    "        print(e)\n",
    "\n",
    "    return conn\n",
    "\n",
    "\n",
    "def create_table(conn, create_table_sql, drop_table_name=None):\n",
    "    \n",
    "    if drop_table_name: # You can optionally pass drop_table_name to drop the table. \n",
    "        try:\n",
    "            c = conn.cursor()\n",
    "            c.execute(\"\"\"DROP TABLE IF EXISTS %s\"\"\" % (drop_table_name))\n",
    "        except Error as e:\n",
    "            print(e)\n",
    "    \n",
    "    try:\n",
    "        c = conn.cursor()\n",
    "        c.execute(create_table_sql)\n",
    "    except Error as e:\n",
    "        print(e)\n",
    "        \n",
    "def execute_sql_statement(sql_statement, conn):\n",
    "    cur = conn.cursor()\n",
    "    cur.execute(sql_statement)\n",
    "\n",
    "    rows = cur.fetchall()\n",
    "\n",
    "    return rows\n"
   ]
  },
  {
   "cell_type": "code",
   "execution_count": 3,
   "id": "d98854a9",
   "metadata": {},
   "outputs": [],
   "source": [
    "with open('taxi_fare_data.csv', 'r') as f:\n",
    "        results = []\n",
    "        for line in f:\n",
    "            \n",
    "            words = line.strip('\\n').split(',')\n",
    "            \n",
    "            results.append(words)"
   ]
  },
  {
   "cell_type": "code",
   "execution_count": null,
   "id": "f592395c",
   "metadata": {},
   "outputs": [],
   "source": [
    "# key - Unique string identifying each row in both the training and test sets. Comprised of pickup_datetime plus a unique integer, but this doesn't matter, it should just be used as a unique ID field. Required in your submission CSV. Not necessarily needed in the training set, but could be useful to simulate a 'submission file' while doing cross-validation within the training set.\n",
    "# Features\n",
    "# pickup_datetime - timestamp value indicating when the taxi ride started.\n",
    "# pickup_longitude - float for longitude coordinate of where the taxi ride started.\n",
    "# pickup_latitude - float for latitude coordinate of where the taxi ride started.\n",
    "# dropoff_longitude - float for longitude coordinate of where the taxi ride ended.\n",
    "# dropoff_latitude - float for latitude coordinate of where the taxi ride ended.\n",
    "# passenger_count - integer"
   ]
  },
  {
   "cell_type": "code",
   "execution_count": 4,
   "id": "122d72f1",
   "metadata": {},
   "outputs": [],
   "source": [
    "\n",
    "def step1_create_taxi_table(database_filename):\n",
    "    # Inputs: Name of the data and normalized database filename\n",
    "    # Output: None\n",
    "\n",
    "    create_table_taxi = \"\"\"CREATE TABLE IF NOT EXISTS [TaxiData] (\n",
    "        [trip_id] integer not null Primary Key autoincrement,\n",
    "        [timestamp] Text  ,\n",
    "        [fare_amount] float,\n",
    "        [pickup_datetime] Text ,\n",
    "        [pickup_longitude] float,\n",
    "        [pickup_latitude] float ,\n",
    "        [dropoff_longitude] float ,\n",
    "        [dropoff_latitude] float ,\n",
    "        [passenger_count] Integer \n",
    "        \n",
    "        );\n",
    "        \"\"\"\n",
    "    conn = create_connection(database_filename)\n",
    "    create_table(conn, create_table_taxi,drop_table_name='TaxiData')\n",
    "\n",
    "\n",
    "    with conn:        \n",
    "            cursor = conn.cursor() \n",
    "            cursor.executemany(\"\"\"INSERT INTO TaxiData('timestamp',\n",
    "             'fare_amount',\n",
    "             'pickup_datetime',\n",
    "             'pickup_longitude',\n",
    "             'pickup_latitude',\n",
    "             'dropoff_longitude',\n",
    "             'dropoff_latitude',\n",
    "             'passenger_count')\n",
    "            VALUES (?,?,?,?,?,?,?,?)\"\"\",results[1:])\n",
    "\n",
    "    conn.commit()"
   ]
  },
  {
   "cell_type": "code",
   "execution_count": 5,
   "id": "30b57753",
   "metadata": {},
   "outputs": [],
   "source": [
    "database_filename = 'finalproject.db'\n",
    "step1_create_taxi_table(database_filename)\n",
    "conn = create_connection(database_filename)\n",
    "cur = conn.cursor()\n",
    "df = pd.read_sql_query(\"\"\"SELECT * FROM TaxiData\"\"\", conn)\n"
   ]
  },
  {
   "cell_type": "code",
   "execution_count": 6,
   "id": "180e5164",
   "metadata": {},
   "outputs": [
    {
     "data": {
      "text/html": [
       "<div>\n",
       "<style scoped>\n",
       "    .dataframe tbody tr th:only-of-type {\n",
       "        vertical-align: middle;\n",
       "    }\n",
       "\n",
       "    .dataframe tbody tr th {\n",
       "        vertical-align: top;\n",
       "    }\n",
       "\n",
       "    .dataframe thead th {\n",
       "        text-align: right;\n",
       "    }\n",
       "</style>\n",
       "<table border=\"1\" class=\"dataframe\">\n",
       "  <thead>\n",
       "    <tr style=\"text-align: right;\">\n",
       "      <th></th>\n",
       "      <th>trip_id</th>\n",
       "      <th>timestamp</th>\n",
       "      <th>fare_amount</th>\n",
       "      <th>pickup_datetime</th>\n",
       "      <th>pickup_longitude</th>\n",
       "      <th>pickup_latitude</th>\n",
       "      <th>dropoff_longitude</th>\n",
       "      <th>dropoff_latitude</th>\n",
       "      <th>passenger_count</th>\n",
       "    </tr>\n",
       "  </thead>\n",
       "  <tbody>\n",
       "    <tr>\n",
       "      <th>0</th>\n",
       "      <td>1</td>\n",
       "      <td>2015-06-30 23:59:54.000000300</td>\n",
       "      <td>8.0</td>\n",
       "      <td>2015-06-30 23:59:54 UTC</td>\n",
       "      <td>-73.968117</td>\n",
       "      <td>40.751141</td>\n",
       "      <td>-73.980461</td>\n",
       "      <td>40.732216</td>\n",
       "      <td>1</td>\n",
       "    </tr>\n",
       "    <tr>\n",
       "      <th>1</th>\n",
       "      <td>2</td>\n",
       "      <td>2015-06-30 23:59:52.000000100</td>\n",
       "      <td>9.5</td>\n",
       "      <td>2015-06-30 23:59:52 UTC</td>\n",
       "      <td>-73.944077</td>\n",
       "      <td>40.711658</td>\n",
       "      <td>-73.982857</td>\n",
       "      <td>40.719799</td>\n",
       "      <td>1</td>\n",
       "    </tr>\n",
       "    <tr>\n",
       "      <th>2</th>\n",
       "      <td>3</td>\n",
       "      <td>2015-06-30 23:59:48.000000300</td>\n",
       "      <td>33.5</td>\n",
       "      <td>2015-06-30 23:59:48 UTC</td>\n",
       "      <td>-73.970360</td>\n",
       "      <td>40.783756</td>\n",
       "      <td>-73.870560</td>\n",
       "      <td>40.709118</td>\n",
       "      <td>1</td>\n",
       "    </tr>\n",
       "    <tr>\n",
       "      <th>3</th>\n",
       "      <td>4</td>\n",
       "      <td>2015-06-30 23:59:48.000000200</td>\n",
       "      <td>6.0</td>\n",
       "      <td>2015-06-30 23:59:48 UTC</td>\n",
       "      <td>-73.978867</td>\n",
       "      <td>40.750820</td>\n",
       "      <td>-73.989326</td>\n",
       "      <td>40.740780</td>\n",
       "      <td>2</td>\n",
       "    </tr>\n",
       "    <tr>\n",
       "      <th>4</th>\n",
       "      <td>5</td>\n",
       "      <td>2015-06-30 23:59:46.000000100</td>\n",
       "      <td>24.5</td>\n",
       "      <td>2015-06-30 23:59:46 UTC</td>\n",
       "      <td>-73.987198</td>\n",
       "      <td>40.739059</td>\n",
       "      <td>-73.962769</td>\n",
       "      <td>40.672539</td>\n",
       "      <td>2</td>\n",
       "    </tr>\n",
       "  </tbody>\n",
       "</table>\n",
       "</div>"
      ],
      "text/plain": [
       "   trip_id                      timestamp  fare_amount  \\\n",
       "0        1  2015-06-30 23:59:54.000000300          8.0   \n",
       "1        2  2015-06-30 23:59:52.000000100          9.5   \n",
       "2        3  2015-06-30 23:59:48.000000300         33.5   \n",
       "3        4  2015-06-30 23:59:48.000000200          6.0   \n",
       "4        5  2015-06-30 23:59:46.000000100         24.5   \n",
       "\n",
       "           pickup_datetime  pickup_longitude  pickup_latitude  \\\n",
       "0  2015-06-30 23:59:54 UTC        -73.968117        40.751141   \n",
       "1  2015-06-30 23:59:52 UTC        -73.944077        40.711658   \n",
       "2  2015-06-30 23:59:48 UTC        -73.970360        40.783756   \n",
       "3  2015-06-30 23:59:48 UTC        -73.978867        40.750820   \n",
       "4  2015-06-30 23:59:46 UTC        -73.987198        40.739059   \n",
       "\n",
       "   dropoff_longitude  dropoff_latitude  passenger_count  \n",
       "0         -73.980461         40.732216                1  \n",
       "1         -73.982857         40.719799                1  \n",
       "2         -73.870560         40.709118                1  \n",
       "3         -73.989326         40.740780                2  \n",
       "4         -73.962769         40.672539                2  "
      ]
     },
     "execution_count": 6,
     "metadata": {},
     "output_type": "execute_result"
    }
   ],
   "source": [
    "df.head()"
   ]
  },
  {
   "cell_type": "code",
   "execution_count": 7,
   "id": "e22aa6b4",
   "metadata": {},
   "outputs": [
    {
     "name": "stdout",
     "output_type": "stream",
     "text": [
      "<class 'pandas.core.frame.DataFrame'>\n",
      "RangeIndex: 200000 entries, 0 to 199999\n",
      "Data columns (total 9 columns):\n",
      " #   Column             Non-Null Count   Dtype  \n",
      "---  ------             --------------   -----  \n",
      " 0   trip_id            200000 non-null  int64  \n",
      " 1   timestamp          200000 non-null  object \n",
      " 2   fare_amount        200000 non-null  float64\n",
      " 3   pickup_datetime    200000 non-null  object \n",
      " 4   pickup_longitude   200000 non-null  float64\n",
      " 5   pickup_latitude    200000 non-null  float64\n",
      " 6   dropoff_longitude  200000 non-null  float64\n",
      " 7   dropoff_latitude   200000 non-null  float64\n",
      " 8   passenger_count    200000 non-null  int64  \n",
      "dtypes: float64(5), int64(2), object(2)\n",
      "memory usage: 13.7+ MB\n"
     ]
    }
   ],
   "source": [
    "df.info()"
   ]
  },
  {
   "cell_type": "code",
   "execution_count": 8,
   "id": "053ad90b",
   "metadata": {},
   "outputs": [
    {
     "data": {
      "text/plain": [
       "trip_id              0\n",
       "timestamp            0\n",
       "fare_amount          0\n",
       "pickup_datetime      0\n",
       "pickup_longitude     0\n",
       "pickup_latitude      0\n",
       "dropoff_longitude    0\n",
       "dropoff_latitude     0\n",
       "passenger_count      0\n",
       "dtype: int64"
      ]
     },
     "execution_count": 8,
     "metadata": {},
     "output_type": "execute_result"
    }
   ],
   "source": [
    "#checking null values\n",
    "df.isnull().sum()\n",
    "\n"
   ]
  },
  {
   "cell_type": "code",
   "execution_count": 9,
   "id": "e21ed6a0",
   "metadata": {},
   "outputs": [
    {
     "data": {
      "text/plain": [
       "0"
      ]
     },
     "execution_count": 9,
     "metadata": {},
     "output_type": "execute_result"
    }
   ],
   "source": [
    "# check duplicate values\n",
    "df.duplicated().sum()\n",
    "\n"
   ]
  },
  {
   "cell_type": "code",
   "execution_count": 10,
   "id": "d825d8aa",
   "metadata": {},
   "outputs": [
    {
     "data": {
      "text/html": [
       "<div>\n",
       "<style scoped>\n",
       "    .dataframe tbody tr th:only-of-type {\n",
       "        vertical-align: middle;\n",
       "    }\n",
       "\n",
       "    .dataframe tbody tr th {\n",
       "        vertical-align: top;\n",
       "    }\n",
       "\n",
       "    .dataframe thead th {\n",
       "        text-align: right;\n",
       "    }\n",
       "</style>\n",
       "<table border=\"1\" class=\"dataframe\">\n",
       "  <thead>\n",
       "    <tr style=\"text-align: right;\">\n",
       "      <th></th>\n",
       "      <th>trip_id</th>\n",
       "      <th>fare_amount</th>\n",
       "      <th>pickup_longitude</th>\n",
       "      <th>pickup_latitude</th>\n",
       "      <th>dropoff_longitude</th>\n",
       "      <th>dropoff_latitude</th>\n",
       "      <th>passenger_count</th>\n",
       "    </tr>\n",
       "  </thead>\n",
       "  <tbody>\n",
       "    <tr>\n",
       "      <th>count</th>\n",
       "      <td>200000.000000</td>\n",
       "      <td>200000.000000</td>\n",
       "      <td>200000.000000</td>\n",
       "      <td>200000.000000</td>\n",
       "      <td>200000.000000</td>\n",
       "      <td>200000.000000</td>\n",
       "      <td>200000.000000</td>\n",
       "    </tr>\n",
       "    <tr>\n",
       "      <th>mean</th>\n",
       "      <td>100000.500000</td>\n",
       "      <td>13.468479</td>\n",
       "      <td>-72.895664</td>\n",
       "      <td>40.156331</td>\n",
       "      <td>-72.950900</td>\n",
       "      <td>40.189314</td>\n",
       "      <td>1.689470</td>\n",
       "    </tr>\n",
       "    <tr>\n",
       "      <th>std</th>\n",
       "      <td>57735.171256</td>\n",
       "      <td>12.262425</td>\n",
       "      <td>8.873970</td>\n",
       "      <td>4.886445</td>\n",
       "      <td>8.652198</td>\n",
       "      <td>4.832543</td>\n",
       "      <td>1.336832</td>\n",
       "    </tr>\n",
       "    <tr>\n",
       "      <th>min</th>\n",
       "      <td>1.000000</td>\n",
       "      <td>-100.000000</td>\n",
       "      <td>-171.797348</td>\n",
       "      <td>0.000000</td>\n",
       "      <td>-171.797348</td>\n",
       "      <td>0.000000</td>\n",
       "      <td>0.000000</td>\n",
       "    </tr>\n",
       "    <tr>\n",
       "      <th>25%</th>\n",
       "      <td>50000.750000</td>\n",
       "      <td>6.500000</td>\n",
       "      <td>-73.992012</td>\n",
       "      <td>40.735687</td>\n",
       "      <td>-73.991348</td>\n",
       "      <td>40.734523</td>\n",
       "      <td>1.000000</td>\n",
       "    </tr>\n",
       "    <tr>\n",
       "      <th>50%</th>\n",
       "      <td>100000.500000</td>\n",
       "      <td>9.500000</td>\n",
       "      <td>-73.981812</td>\n",
       "      <td>40.752670</td>\n",
       "      <td>-73.979897</td>\n",
       "      <td>40.753468</td>\n",
       "      <td>1.000000</td>\n",
       "    </tr>\n",
       "    <tr>\n",
       "      <th>75%</th>\n",
       "      <td>150000.250000</td>\n",
       "      <td>15.000000</td>\n",
       "      <td>-73.967062</td>\n",
       "      <td>40.767239</td>\n",
       "      <td>-73.962784</td>\n",
       "      <td>40.768250</td>\n",
       "      <td>2.000000</td>\n",
       "    </tr>\n",
       "    <tr>\n",
       "      <th>max</th>\n",
       "      <td>200000.000000</td>\n",
       "      <td>900.000000</td>\n",
       "      <td>0.000000</td>\n",
       "      <td>69.702576</td>\n",
       "      <td>0.000000</td>\n",
       "      <td>405.049988</td>\n",
       "      <td>9.000000</td>\n",
       "    </tr>\n",
       "  </tbody>\n",
       "</table>\n",
       "</div>"
      ],
      "text/plain": [
       "             trip_id    fare_amount  pickup_longitude  pickup_latitude  \\\n",
       "count  200000.000000  200000.000000     200000.000000    200000.000000   \n",
       "mean   100000.500000      13.468479        -72.895664        40.156331   \n",
       "std     57735.171256      12.262425          8.873970         4.886445   \n",
       "min         1.000000    -100.000000       -171.797348         0.000000   \n",
       "25%     50000.750000       6.500000        -73.992012        40.735687   \n",
       "50%    100000.500000       9.500000        -73.981812        40.752670   \n",
       "75%    150000.250000      15.000000        -73.967062        40.767239   \n",
       "max    200000.000000     900.000000          0.000000        69.702576   \n",
       "\n",
       "       dropoff_longitude  dropoff_latitude  passenger_count  \n",
       "count      200000.000000     200000.000000    200000.000000  \n",
       "mean          -72.950900         40.189314         1.689470  \n",
       "std             8.652198          4.832543         1.336832  \n",
       "min          -171.797348          0.000000         0.000000  \n",
       "25%           -73.991348         40.734523         1.000000  \n",
       "50%           -73.979897         40.753468         1.000000  \n",
       "75%           -73.962784         40.768250         2.000000  \n",
       "max             0.000000        405.049988         9.000000  "
      ]
     },
     "execution_count": 10,
     "metadata": {},
     "output_type": "execute_result"
    }
   ],
   "source": [
    "df.describe()"
   ]
  },
  {
   "cell_type": "code",
   "execution_count": 11,
   "id": "60cfaf1b",
   "metadata": {},
   "outputs": [],
   "source": [
    "#Outlier removal\n",
    "\n",
    "# fare_amount: 1 to 500\n",
    "# longitudes: -75 to -72\n",
    "# latitudes: 40 to 43\n",
    "# passenger_count: 1 to 6\n",
    "\n",
    "\n",
    "\n",
    "def remove_outliers(df):\n",
    "    return df[(df['fare_amount'] >= 1.) & \n",
    "              (df['fare_amount'] <= 500.) &\n",
    "              (df['pickup_longitude'] >= -75) & \n",
    "              (df['pickup_longitude'] <= -72) & \n",
    "              (df['dropoff_longitude'] >= -75) & \n",
    "              (df['dropoff_longitude'] <= -72) & \n",
    "              (df['pickup_latitude'] >= 40) & \n",
    "              (df['pickup_latitude'] <= 43) & \n",
    "              (df['dropoff_latitude'] >=40) & \n",
    "              (df['dropoff_latitude'] <= 43) & \n",
    "              (df['passenger_count'] >= 1) & \n",
    "              (df['passenger_count'] <= 6)]"
   ]
  },
  {
   "cell_type": "code",
   "execution_count": 12,
   "id": "7b9310b2",
   "metadata": {},
   "outputs": [],
   "source": [
    "df=remove_outliers(df)"
   ]
  },
  {
   "cell_type": "code",
   "execution_count": 13,
   "id": "6e8ea4e0",
   "metadata": {},
   "outputs": [
    {
     "name": "stdout",
     "output_type": "stream",
     "text": [
      "<class 'pandas.core.frame.DataFrame'>\n",
      "Int64Index: 196611 entries, 0 to 199999\n",
      "Data columns (total 9 columns):\n",
      " #   Column             Non-Null Count   Dtype  \n",
      "---  ------             --------------   -----  \n",
      " 0   trip_id            196611 non-null  int64  \n",
      " 1   timestamp          196611 non-null  object \n",
      " 2   fare_amount        196611 non-null  float64\n",
      " 3   pickup_datetime    196611 non-null  object \n",
      " 4   pickup_longitude   196611 non-null  float64\n",
      " 5   pickup_latitude    196611 non-null  float64\n",
      " 6   dropoff_longitude  196611 non-null  float64\n",
      " 7   dropoff_latitude   196611 non-null  float64\n",
      " 8   passenger_count    196611 non-null  int64  \n",
      "dtypes: float64(5), int64(2), object(2)\n",
      "memory usage: 15.0+ MB\n"
     ]
    }
   ],
   "source": [
    "df.info()"
   ]
  },
  {
   "cell_type": "code",
   "execution_count": 14,
   "id": "389a1bf7",
   "metadata": {},
   "outputs": [],
   "source": [
    "# calculate distances in miles\n",
    "import numpy as np\n",
    "\n",
    "def haversine_np(lon1, lat1, lon2, lat2):\n",
    "    \"\"\"\n",
    "    Calculate the great circle distance between two points\n",
    "    on the earth (specified in decimal degrees)\n",
    "\n",
    "    All args must be of equal length.    \n",
    "\n",
    "    \"\"\"\n",
    "    lon1, lat1, lon2, lat2 = map(np.radians, [lon1, lat1, lon2, lat2])\n",
    "\n",
    "    dlon = lon2 - lon1\n",
    "    dlat = lat2 - lat1\n",
    "\n",
    "    a = np.sin(dlat/2.0)**2 + np.cos(lat1) * np.cos(lat2) * np.sin(dlon/2.0)**2\n",
    "\n",
    "    c = 2 * np.arcsin(np.sqrt(a))\n",
    "    km = 6367 * c\n",
    "    return km/0.621\n"
   ]
  },
  {
   "cell_type": "code",
   "execution_count": 15,
   "id": "9d4c3d58",
   "metadata": {},
   "outputs": [],
   "source": [
    "def add_trip_distance(df):\n",
    "    df['trip_distance'] = haversine_np(df['pickup_longitude'], df['pickup_latitude'], df['dropoff_longitude'], df['dropoff_latitude'])"
   ]
  },
  {
   "cell_type": "code",
   "execution_count": 16,
   "id": "ebe5d2fe",
   "metadata": {},
   "outputs": [],
   "source": [
    "add_trip_distance(df)"
   ]
  },
  {
   "cell_type": "code",
   "execution_count": 17,
   "id": "c7042938",
   "metadata": {},
   "outputs": [
    {
     "name": "stdout",
     "output_type": "stream",
     "text": [
      "<class 'pandas.core.frame.DataFrame'>\n",
      "Int64Index: 196611 entries, 0 to 199999\n",
      "Data columns (total 10 columns):\n",
      " #   Column             Non-Null Count   Dtype  \n",
      "---  ------             --------------   -----  \n",
      " 0   trip_id            196611 non-null  int64  \n",
      " 1   timestamp          196611 non-null  object \n",
      " 2   fare_amount        196611 non-null  float64\n",
      " 3   pickup_datetime    196611 non-null  object \n",
      " 4   pickup_longitude   196611 non-null  float64\n",
      " 5   pickup_latitude    196611 non-null  float64\n",
      " 6   dropoff_longitude  196611 non-null  float64\n",
      " 7   dropoff_latitude   196611 non-null  float64\n",
      " 8   passenger_count    196611 non-null  int64  \n",
      " 9   trip_distance      196611 non-null  float64\n",
      "dtypes: float64(6), int64(2), object(2)\n",
      "memory usage: 16.5+ MB\n"
     ]
    }
   ],
   "source": [
    "df.info()"
   ]
  },
  {
   "cell_type": "code",
   "execution_count": 18,
   "id": "00585084",
   "metadata": {},
   "outputs": [],
   "source": [
    "df['timestamp']=pd.to_datetime(df['timestamp'])"
   ]
  },
  {
   "cell_type": "code",
   "execution_count": 19,
   "id": "4df85711",
   "metadata": {},
   "outputs": [
    {
     "name": "stdout",
     "output_type": "stream",
     "text": [
      "<class 'pandas.core.frame.DataFrame'>\n",
      "Int64Index: 196611 entries, 0 to 199999\n",
      "Data columns (total 10 columns):\n",
      " #   Column             Non-Null Count   Dtype         \n",
      "---  ------             --------------   -----         \n",
      " 0   trip_id            196611 non-null  int64         \n",
      " 1   timestamp          196611 non-null  datetime64[ns]\n",
      " 2   fare_amount        196611 non-null  float64       \n",
      " 3   pickup_datetime    196611 non-null  object        \n",
      " 4   pickup_longitude   196611 non-null  float64       \n",
      " 5   pickup_latitude    196611 non-null  float64       \n",
      " 6   dropoff_longitude  196611 non-null  float64       \n",
      " 7   dropoff_latitude   196611 non-null  float64       \n",
      " 8   passenger_count    196611 non-null  int64         \n",
      " 9   trip_distance      196611 non-null  float64       \n",
      "dtypes: datetime64[ns](1), float64(6), int64(2), object(1)\n",
      "memory usage: 16.5+ MB\n"
     ]
    }
   ],
   "source": [
    "df.info()"
   ]
  },
  {
   "cell_type": "code",
   "execution_count": 20,
   "id": "f4f99a06",
   "metadata": {},
   "outputs": [],
   "source": [
    "\n",
    "\n",
    "\n",
    "# pickup_datetime feature\n",
    "\n",
    "def extract_time_features(df):\n",
    "    timezone_name = 'America/New_York'\n",
    "    time_column = \"pickup_datetime\"\n",
    "    df.index = pd.to_datetime(df[time_column])\n",
    "    df.index = df.index.tz_convert(timezone_name)\n",
    "    df[\"dow\"] = df.index.weekday\n",
    "    df[\"hour\"] = df.index.hour\n",
    "    df[\"month\"] = df.index.month\n",
    "    df[\"year\"] = df.index.year\n",
    "    return df.reset_index(drop=True)\n"
   ]
  },
  {
   "cell_type": "code",
   "execution_count": 21,
   "id": "8d9a7596",
   "metadata": {
    "scrolled": true
   },
   "outputs": [
    {
     "name": "stdout",
     "output_type": "stream",
     "text": [
      "<class 'pandas.core.frame.DataFrame'>\n",
      "RangeIndex: 196611 entries, 0 to 196610\n",
      "Data columns (total 14 columns):\n",
      " #   Column             Non-Null Count   Dtype         \n",
      "---  ------             --------------   -----         \n",
      " 0   trip_id            196611 non-null  int64         \n",
      " 1   timestamp          196611 non-null  datetime64[ns]\n",
      " 2   fare_amount        196611 non-null  float64       \n",
      " 3   pickup_datetime    196611 non-null  object        \n",
      " 4   pickup_longitude   196611 non-null  float64       \n",
      " 5   pickup_latitude    196611 non-null  float64       \n",
      " 6   dropoff_longitude  196611 non-null  float64       \n",
      " 7   dropoff_latitude   196611 non-null  float64       \n",
      " 8   passenger_count    196611 non-null  int64         \n",
      " 9   trip_distance      196611 non-null  float64       \n",
      " 10  dow                196611 non-null  int64         \n",
      " 11  hour               196611 non-null  int64         \n",
      " 12  month              196611 non-null  int64         \n",
      " 13  year               196611 non-null  int64         \n",
      "dtypes: datetime64[ns](1), float64(6), int64(6), object(1)\n",
      "memory usage: 21.0+ MB\n"
     ]
    }
   ],
   "source": [
    "df = extract_time_features(df)\n",
    "df.info()"
   ]
  },
  {
   "cell_type": "code",
   "execution_count": 22,
   "id": "f96aa5ef",
   "metadata": {},
   "outputs": [],
   "source": [
    "input_cols = ['passenger_count',\n",
    "       'trip_distance', 'dow', 'hour'\n",
    "       ]\n",
    "target_col = 'fare_amount'"
   ]
  },
  {
   "cell_type": "code",
   "execution_count": 23,
   "id": "97be712c",
   "metadata": {},
   "outputs": [],
   "source": [
    "cols=['passenger_count','trip_distance', 'dow', 'hour','fare_amount']\n",
    "data=df[cols]"
   ]
  },
  {
   "cell_type": "code",
   "execution_count": 24,
   "id": "1f2fd142",
   "metadata": {},
   "outputs": [],
   "source": [
    "one_hot_encoded_data= pd.get_dummies(data, columns= ['dow'])"
   ]
  },
  {
   "cell_type": "code",
   "execution_count": 25,
   "id": "409c4304",
   "metadata": {},
   "outputs": [
    {
     "data": {
      "text/html": [
       "<div>\n",
       "<style scoped>\n",
       "    .dataframe tbody tr th:only-of-type {\n",
       "        vertical-align: middle;\n",
       "    }\n",
       "\n",
       "    .dataframe tbody tr th {\n",
       "        vertical-align: top;\n",
       "    }\n",
       "\n",
       "    .dataframe thead th {\n",
       "        text-align: right;\n",
       "    }\n",
       "</style>\n",
       "<table border=\"1\" class=\"dataframe\">\n",
       "  <thead>\n",
       "    <tr style=\"text-align: right;\">\n",
       "      <th></th>\n",
       "      <th>passenger_count</th>\n",
       "      <th>trip_distance</th>\n",
       "      <th>hour</th>\n",
       "      <th>fare_amount</th>\n",
       "      <th>dow_0</th>\n",
       "      <th>dow_1</th>\n",
       "      <th>dow_2</th>\n",
       "      <th>dow_3</th>\n",
       "      <th>dow_4</th>\n",
       "      <th>dow_5</th>\n",
       "      <th>dow_6</th>\n",
       "    </tr>\n",
       "  </thead>\n",
       "  <tbody>\n",
       "    <tr>\n",
       "      <th>0</th>\n",
       "      <td>1</td>\n",
       "      <td>3.777487</td>\n",
       "      <td>19</td>\n",
       "      <td>8.0</td>\n",
       "      <td>0</td>\n",
       "      <td>1</td>\n",
       "      <td>0</td>\n",
       "      <td>0</td>\n",
       "      <td>0</td>\n",
       "      <td>0</td>\n",
       "      <td>0</td>\n",
       "    </tr>\n",
       "    <tr>\n",
       "      <th>1</th>\n",
       "      <td>1</td>\n",
       "      <td>5.457855</td>\n",
       "      <td>19</td>\n",
       "      <td>9.5</td>\n",
       "      <td>0</td>\n",
       "      <td>1</td>\n",
       "      <td>0</td>\n",
       "      <td>0</td>\n",
       "      <td>0</td>\n",
       "      <td>0</td>\n",
       "      <td>0</td>\n",
       "    </tr>\n",
       "    <tr>\n",
       "      <th>2</th>\n",
       "      <td>1</td>\n",
       "      <td>19.011739</td>\n",
       "      <td>19</td>\n",
       "      <td>33.5</td>\n",
       "      <td>0</td>\n",
       "      <td>1</td>\n",
       "      <td>0</td>\n",
       "      <td>0</td>\n",
       "      <td>0</td>\n",
       "      <td>0</td>\n",
       "      <td>0</td>\n",
       "    </tr>\n",
       "    <tr>\n",
       "      <th>3</th>\n",
       "      <td>2</td>\n",
       "      <td>2.288864</td>\n",
       "      <td>19</td>\n",
       "      <td>6.0</td>\n",
       "      <td>0</td>\n",
       "      <td>1</td>\n",
       "      <td>0</td>\n",
       "      <td>0</td>\n",
       "      <td>0</td>\n",
       "      <td>0</td>\n",
       "      <td>0</td>\n",
       "    </tr>\n",
       "    <tr>\n",
       "      <th>4</th>\n",
       "      <td>2</td>\n",
       "      <td>12.356255</td>\n",
       "      <td>19</td>\n",
       "      <td>24.5</td>\n",
       "      <td>0</td>\n",
       "      <td>1</td>\n",
       "      <td>0</td>\n",
       "      <td>0</td>\n",
       "      <td>0</td>\n",
       "      <td>0</td>\n",
       "      <td>0</td>\n",
       "    </tr>\n",
       "  </tbody>\n",
       "</table>\n",
       "</div>"
      ],
      "text/plain": [
       "   passenger_count  trip_distance  hour  fare_amount  dow_0  dow_1  dow_2  \\\n",
       "0                1       3.777487    19          8.0      0      1      0   \n",
       "1                1       5.457855    19          9.5      0      1      0   \n",
       "2                1      19.011739    19         33.5      0      1      0   \n",
       "3                2       2.288864    19          6.0      0      1      0   \n",
       "4                2      12.356255    19         24.5      0      1      0   \n",
       "\n",
       "   dow_3  dow_4  dow_5  dow_6  \n",
       "0      0      0      0      0  \n",
       "1      0      0      0      0  \n",
       "2      0      0      0      0  \n",
       "3      0      0      0      0  \n",
       "4      0      0      0      0  "
      ]
     },
     "execution_count": 25,
     "metadata": {},
     "output_type": "execute_result"
    }
   ],
   "source": [
    "one_hot_encoded_data.head()"
   ]
  },
  {
   "cell_type": "code",
   "execution_count": 26,
   "id": "f2249c13",
   "metadata": {},
   "outputs": [],
   "source": [
    "def myfunc(x):\n",
    "    if x>12 and x<=16 :\n",
    "        return 'Noon'\n",
    "    elif x>=8 and x<=12:\n",
    "        return 'Morning'\n",
    "    elif  x>16 and x<=20:\n",
    "        return 'Evening'\n",
    "    else:\n",
    "        return 'Night'\n",
    "\n",
    "one_hot_encoded_data['hour_bin'] = one_hot_encoded_data.apply(lambda x: myfunc(x.hour), axis=1)"
   ]
  },
  {
   "cell_type": "code",
   "execution_count": 27,
   "id": "5b6893c7",
   "metadata": {},
   "outputs": [
    {
     "name": "stdout",
     "output_type": "stream",
     "text": [
      "<class 'pandas.core.frame.DataFrame'>\n",
      "RangeIndex: 196611 entries, 0 to 196610\n",
      "Data columns (total 12 columns):\n",
      " #   Column           Non-Null Count   Dtype  \n",
      "---  ------           --------------   -----  \n",
      " 0   passenger_count  196611 non-null  int64  \n",
      " 1   trip_distance    196611 non-null  float64\n",
      " 2   hour             196611 non-null  int64  \n",
      " 3   fare_amount      196611 non-null  float64\n",
      " 4   dow_0            196611 non-null  uint8  \n",
      " 5   dow_1            196611 non-null  uint8  \n",
      " 6   dow_2            196611 non-null  uint8  \n",
      " 7   dow_3            196611 non-null  uint8  \n",
      " 8   dow_4            196611 non-null  uint8  \n",
      " 9   dow_5            196611 non-null  uint8  \n",
      " 10  dow_6            196611 non-null  uint8  \n",
      " 11  hour_bin         196611 non-null  object \n",
      "dtypes: float64(2), int64(2), object(1), uint8(7)\n",
      "memory usage: 8.8+ MB\n"
     ]
    }
   ],
   "source": [
    "one_hot_encoded_data.info()"
   ]
  },
  {
   "cell_type": "code",
   "execution_count": 28,
   "id": "9933d50d",
   "metadata": {},
   "outputs": [],
   "source": [
    "one_hot_encoded_data= pd.get_dummies(one_hot_encoded_data, columns= ['hour_bin'])"
   ]
  },
  {
   "cell_type": "code",
   "execution_count": 29,
   "id": "6b5b5091",
   "metadata": {},
   "outputs": [
    {
     "name": "stdout",
     "output_type": "stream",
     "text": [
      "<class 'pandas.core.frame.DataFrame'>\n",
      "RangeIndex: 196611 entries, 0 to 196610\n",
      "Data columns (total 15 columns):\n",
      " #   Column            Non-Null Count   Dtype  \n",
      "---  ------            --------------   -----  \n",
      " 0   passenger_count   196611 non-null  int64  \n",
      " 1   trip_distance     196611 non-null  float64\n",
      " 2   hour              196611 non-null  int64  \n",
      " 3   fare_amount       196611 non-null  float64\n",
      " 4   dow_0             196611 non-null  uint8  \n",
      " 5   dow_1             196611 non-null  uint8  \n",
      " 6   dow_2             196611 non-null  uint8  \n",
      " 7   dow_3             196611 non-null  uint8  \n",
      " 8   dow_4             196611 non-null  uint8  \n",
      " 9   dow_5             196611 non-null  uint8  \n",
      " 10  dow_6             196611 non-null  uint8  \n",
      " 11  hour_bin_Evening  196611 non-null  uint8  \n",
      " 12  hour_bin_Morning  196611 non-null  uint8  \n",
      " 13  hour_bin_Night    196611 non-null  uint8  \n",
      " 14  hour_bin_Noon     196611 non-null  uint8  \n",
      "dtypes: float64(2), int64(2), uint8(11)\n",
      "memory usage: 8.1 MB\n"
     ]
    }
   ],
   "source": [
    "one_hot_encoded_data.info()"
   ]
  },
  {
   "cell_type": "code",
   "execution_count": 30,
   "id": "c6fcd84d",
   "metadata": {},
   "outputs": [],
   "source": [
    "one_hot_encoded_data=one_hot_encoded_data.drop(columns='hour')"
   ]
  },
  {
   "cell_type": "code",
   "execution_count": null,
   "id": "cff06ca0",
   "metadata": {},
   "outputs": [],
   "source": []
  },
  {
   "cell_type": "code",
   "execution_count": 31,
   "id": "f7627e6b",
   "metadata": {},
   "outputs": [
    {
     "data": {
      "text/plain": [
       "(157288, 39323)"
      ]
     },
     "execution_count": 31,
     "metadata": {},
     "output_type": "execute_result"
    }
   ],
   "source": [
    "from sklearn.model_selection import train_test_split\n",
    "train_df, val_df = train_test_split(one_hot_encoded_data, test_size=0.2, random_state=42)\n",
    "len(train_df), len(val_df)"
   ]
  },
  {
   "cell_type": "code",
   "execution_count": 32,
   "id": "0428babe",
   "metadata": {},
   "outputs": [
    {
     "data": {
      "text/plain": [
       "Index(['passenger_count', 'trip_distance', 'fare_amount', 'dow_0', 'dow_1',\n",
       "       'dow_2', 'dow_3', 'dow_4', 'dow_5', 'dow_6', 'hour_bin_Evening',\n",
       "       'hour_bin_Morning', 'hour_bin_Night', 'hour_bin_Noon'],\n",
       "      dtype='object')"
      ]
     },
     "execution_count": 32,
     "metadata": {},
     "output_type": "execute_result"
    }
   ],
   "source": [
    "train_df.columns"
   ]
  },
  {
   "cell_type": "code",
   "execution_count": 33,
   "id": "f244e7e9",
   "metadata": {},
   "outputs": [
    {
     "data": {
      "text/html": [
       "<div>\n",
       "<style scoped>\n",
       "    .dataframe tbody tr th:only-of-type {\n",
       "        vertical-align: middle;\n",
       "    }\n",
       "\n",
       "    .dataframe tbody tr th {\n",
       "        vertical-align: top;\n",
       "    }\n",
       "\n",
       "    .dataframe thead th {\n",
       "        text-align: right;\n",
       "    }\n",
       "</style>\n",
       "<table border=\"1\" class=\"dataframe\">\n",
       "  <thead>\n",
       "    <tr style=\"text-align: right;\">\n",
       "      <th></th>\n",
       "      <th>passenger_count</th>\n",
       "      <th>trip_distance</th>\n",
       "      <th>dow_0</th>\n",
       "      <th>dow_1</th>\n",
       "      <th>dow_2</th>\n",
       "      <th>dow_3</th>\n",
       "      <th>dow_4</th>\n",
       "      <th>dow_5</th>\n",
       "      <th>dow_6</th>\n",
       "      <th>hour_bin_Evening</th>\n",
       "      <th>hour_bin_Morning</th>\n",
       "      <th>hour_bin_Night</th>\n",
       "      <th>hour_bin_Noon</th>\n",
       "    </tr>\n",
       "  </thead>\n",
       "  <tbody>\n",
       "    <tr>\n",
       "      <th>124493</th>\n",
       "      <td>1</td>\n",
       "      <td>1.450610</td>\n",
       "      <td>0</td>\n",
       "      <td>0</td>\n",
       "      <td>1</td>\n",
       "      <td>0</td>\n",
       "      <td>0</td>\n",
       "      <td>0</td>\n",
       "      <td>0</td>\n",
       "      <td>0</td>\n",
       "      <td>0</td>\n",
       "      <td>0</td>\n",
       "      <td>1</td>\n",
       "    </tr>\n",
       "    <tr>\n",
       "      <th>193316</th>\n",
       "      <td>4</td>\n",
       "      <td>2.636467</td>\n",
       "      <td>0</td>\n",
       "      <td>0</td>\n",
       "      <td>0</td>\n",
       "      <td>0</td>\n",
       "      <td>0</td>\n",
       "      <td>1</td>\n",
       "      <td>0</td>\n",
       "      <td>1</td>\n",
       "      <td>0</td>\n",
       "      <td>0</td>\n",
       "      <td>0</td>\n",
       "    </tr>\n",
       "    <tr>\n",
       "      <th>113558</th>\n",
       "      <td>5</td>\n",
       "      <td>34.252201</td>\n",
       "      <td>0</td>\n",
       "      <td>0</td>\n",
       "      <td>0</td>\n",
       "      <td>1</td>\n",
       "      <td>0</td>\n",
       "      <td>0</td>\n",
       "      <td>0</td>\n",
       "      <td>0</td>\n",
       "      <td>0</td>\n",
       "      <td>1</td>\n",
       "      <td>0</td>\n",
       "    </tr>\n",
       "  </tbody>\n",
       "</table>\n",
       "</div>"
      ],
      "text/plain": [
       "        passenger_count  trip_distance  dow_0  dow_1  dow_2  dow_3  dow_4  \\\n",
       "124493                1       1.450610      0      0      1      0      0   \n",
       "193316                4       2.636467      0      0      0      0      0   \n",
       "113558                5      34.252201      0      0      0      1      0   \n",
       "\n",
       "        dow_5  dow_6  hour_bin_Evening  hour_bin_Morning  hour_bin_Night  \\\n",
       "124493      0      0                 0                 0               0   \n",
       "193316      1      0                 1                 0               0   \n",
       "113558      0      0                 0                 0               1   \n",
       "\n",
       "        hour_bin_Noon  \n",
       "124493              1  \n",
       "193316              0  \n",
       "113558              0  "
      ]
     },
     "execution_count": 33,
     "metadata": {},
     "output_type": "execute_result"
    }
   ],
   "source": [
    "inp_col=['passenger_count', 'trip_distance', 'dow_0', 'dow_1',\n",
    "       'dow_2', 'dow_3', 'dow_4', 'dow_5', 'dow_6', 'hour_bin_Evening',\n",
    "       'hour_bin_Morning', 'hour_bin_Night', 'hour_bin_Noon']\n",
    "out_col=['fare_amount']\n",
    "train_inputs = train_df[inp_col]\n",
    "train_targets = train_df[out_col]\n",
    "train_inputs.head(3)"
   ]
  },
  {
   "cell_type": "code",
   "execution_count": 34,
   "id": "c03a5b84",
   "metadata": {},
   "outputs": [
    {
     "data": {
      "text/html": [
       "<div>\n",
       "<style scoped>\n",
       "    .dataframe tbody tr th:only-of-type {\n",
       "        vertical-align: middle;\n",
       "    }\n",
       "\n",
       "    .dataframe tbody tr th {\n",
       "        vertical-align: top;\n",
       "    }\n",
       "\n",
       "    .dataframe thead th {\n",
       "        text-align: right;\n",
       "    }\n",
       "</style>\n",
       "<table border=\"1\" class=\"dataframe\">\n",
       "  <thead>\n",
       "    <tr style=\"text-align: right;\">\n",
       "      <th></th>\n",
       "      <th>fare_amount</th>\n",
       "    </tr>\n",
       "  </thead>\n",
       "  <tbody>\n",
       "    <tr>\n",
       "      <th>124493</th>\n",
       "      <td>16.00</td>\n",
       "    </tr>\n",
       "    <tr>\n",
       "      <th>193316</th>\n",
       "      <td>6.50</td>\n",
       "    </tr>\n",
       "    <tr>\n",
       "      <th>113558</th>\n",
       "      <td>57.54</td>\n",
       "    </tr>\n",
       "    <tr>\n",
       "      <th>138152</th>\n",
       "      <td>5.50</td>\n",
       "    </tr>\n",
       "    <tr>\n",
       "      <th>175955</th>\n",
       "      <td>19.00</td>\n",
       "    </tr>\n",
       "  </tbody>\n",
       "</table>\n",
       "</div>"
      ],
      "text/plain": [
       "        fare_amount\n",
       "124493        16.00\n",
       "193316         6.50\n",
       "113558        57.54\n",
       "138152         5.50\n",
       "175955        19.00"
      ]
     },
     "execution_count": 34,
     "metadata": {},
     "output_type": "execute_result"
    }
   ],
   "source": [
    "train_targets.head()"
   ]
  },
  {
   "cell_type": "code",
   "execution_count": 35,
   "id": "8cb2f067",
   "metadata": {},
   "outputs": [],
   "source": [
    "#validation\n",
    "val_inputs = val_df[inp_col]\n",
    "val_targets = val_df[out_col]"
   ]
  },
  {
   "cell_type": "code",
   "execution_count": null,
   "id": "fc09491e",
   "metadata": {},
   "outputs": [],
   "source": [
    "#Modelling"
   ]
  },
  {
   "cell_type": "code",
   "execution_count": 36,
   "id": "ac17ffd9",
   "metadata": {
    "scrolled": true
   },
   "outputs": [
    {
     "name": "stdout",
     "output_type": "stream",
     "text": [
      "RMSE Score on Validation data 5.222886038225813\n",
      "RMSE Score on Validation data 5.382157410454862\n"
     ]
    }
   ],
   "source": [
    "from sklearn.metrics import mean_squared_error\n",
    "from sklearn.linear_model import LinearRegression\n",
    "\n",
    "linreg_model = LinearRegression()\n",
    "linreg_model.fit(train_inputs, train_targets)\n",
    "train_preds = linreg_model.predict(train_inputs)\n",
    "val_preds = linreg_model.predict(val_inputs)\n",
    "train_rmse = mean_squared_error(train_targets, train_preds, squared=False)\n",
    "val_rmse = mean_squared_error(val_targets, val_preds, squared=False)\n",
    "print('RMSE Score on Validation data',val_rmse)\n",
    "print('RMSE Score on Validation data',train_rmse)"
   ]
  },
  {
   "cell_type": "code",
   "execution_count": 47,
   "id": "a3b521dc",
   "metadata": {},
   "outputs": [],
   "source": [
    "import numpy\n",
    "from numpy import arange\n",
    "from matplotlib import pyplot\n",
    "from pandas import read_csv\n",
    "from pandas import set_option\n",
    "#from pandas.tools.plotting import scatter_matrix\n",
    "from sklearn.preprocessing import StandardScaler\n",
    "from sklearn.model_selection import train_test_split\n",
    "from sklearn.model_selection import KFold\n",
    "from sklearn.model_selection import cross_val_score\n",
    "from sklearn.model_selection import GridSearchCV\n",
    "from sklearn.linear_model import LinearRegression\n",
    "from sklearn.linear_model import Lasso\n",
    "from sklearn.linear_model import ElasticNet\n",
    "from sklearn.tree import DecisionTreeRegressor\n",
    "from sklearn.neighbors import KNeighborsRegressor\n",
    "from sklearn.svm import SVR\n",
    "from sklearn.pipeline import Pipeline\n",
    "from sklearn.ensemble import RandomForestRegressor\n",
    "from sklearn.ensemble import GradientBoostingRegressor\n",
    "from sklearn.ensemble import ExtraTreesRegressor\n",
    "from sklearn.ensemble import AdaBoostRegressor\n",
    "from sklearn.metrics import mean_squared_error"
   ]
  },
  {
   "cell_type": "code",
   "execution_count": 48,
   "id": "8cfbe122",
   "metadata": {},
   "outputs": [
    {
     "ename": "NameError",
     "evalue": "name 'sklearn' is not defined",
     "output_type": "error",
     "traceback": [
      "\u001b[0;31m---------------------------------------------------------------------------\u001b[0m",
      "\u001b[0;31mNameError\u001b[0m                                 Traceback (most recent call last)",
      "\u001b[0;32m/tmp/ipykernel_236489/2933326152.py\u001b[0m in \u001b[0;36m<module>\u001b[0;34m\u001b[0m\n\u001b[0;32m----> 1\u001b[0;31m \u001b[0msorted\u001b[0m\u001b[0;34m(\u001b[0m\u001b[0msklearn\u001b[0m\u001b[0;34m.\u001b[0m\u001b[0mmetrics\u001b[0m\u001b[0;34m.\u001b[0m\u001b[0mSCORERS\u001b[0m\u001b[0;34m.\u001b[0m\u001b[0mkeys\u001b[0m\u001b[0;34m(\u001b[0m\u001b[0;34m)\u001b[0m\u001b[0;34m)\u001b[0m\u001b[0;34m\u001b[0m\u001b[0;34m\u001b[0m\u001b[0m\n\u001b[0m",
      "\u001b[0;31mNameError\u001b[0m: name 'sklearn' is not defined"
     ]
    }
   ],
   "source": [
    "sorted(sklearn.metrics.SCORERS.keys())"
   ]
  },
  {
   "cell_type": "code",
   "execution_count": 52,
   "id": "81d4fbab",
   "metadata": {},
   "outputs": [],
   "source": [
    "# Test options and evaluation metric\n",
    "num_folds = 10\n",
    "seed = 7\n",
    "scoring = 'neg_root_mean_squared_error'"
   ]
  },
  {
   "cell_type": "code",
   "execution_count": 53,
   "id": "75de7401",
   "metadata": {},
   "outputs": [],
   "source": [
    "# Spot-Check Algorithms\n",
    "models = []\n",
    "models.append(( 'LR' , LinearRegression()))\n",
    "models.append(( 'LASSO' , Lasso()))\n",
    "models.append(( 'EN' , ElasticNet()))\n",
    "models.append(( 'KNN' , KNeighborsRegressor()))\n",
    "models.append(( 'CART' , DecisionTreeRegressor()))"
   ]
  },
  {
   "cell_type": "code",
   "execution_count": 54,
   "id": "9b281264",
   "metadata": {},
   "outputs": [
    {
     "name": "stdout",
     "output_type": "stream",
     "text": [
      "LR: -5.363259 (0.457169)\n",
      "LASSO: -5.425973 (0.445931)\n",
      "EN: -5.427672 (0.445222)\n",
      "KNN: -5.511066 (0.427254)\n",
      "CART: -7.216634 (0.474532)\n"
     ]
    }
   ],
   "source": [
    "# evaluate each model in turn\n",
    "results = []\n",
    "names = []\n",
    "for name, model in models:\n",
    "    kfold = KFold(n_splits=num_folds)\n",
    "    cv_results = cross_val_score(model, train_inputs, train_targets, cv=kfold, scoring=scoring)\n",
    "    results.append(cv_results)\n",
    "    names.append(name)\n",
    "    msg = \"%s: %f (%f)\" % (name, cv_results.mean(), cv_results.std())\n",
    "    print(msg)"
   ]
  },
  {
   "cell_type": "code",
   "execution_count": 56,
   "id": "18c014c3",
   "metadata": {},
   "outputs": [
    {
     "data": {
      "image/png": "[encoded data removed]",
      "text/plain": [
       "<Figure size 432x288 with 1 Axes>"
      ]
     },
     "metadata": {
      "needs_background": "light"
     },
     "output_type": "display_data"
    }
   ],
   "source": [
    "# Compare Algorithms\n",
    "fig = pyplot.figure()\n",
    "fig.suptitle( 'Algorithm Comparison' )\n",
    "ax = fig.add_subplot(111)\n",
    "pyplot.boxplot(results)\n",
    "ax.set_xticklabels(names)\n",
    "pyplot.show()"
   ]
  },
  {
   "cell_type": "code",
   "execution_count": 60,
   "id": "6806a0ff",
   "metadata": {},
   "outputs": [
    {
     "name": "stdout",
     "output_type": "stream",
     "text": [
      "ScaledLR: -5.363364 (0.457090)\n",
      "ScaledLASSO: -5.516400 (0.429604)\n",
      "ScaledEN: -6.661515 (0.337587)\n",
      "ScaledKNN: -5.545968 (0.437003)\n",
      "ScaledCART: -7.215643 (0.485967)\n"
     ]
    }
   ],
   "source": [
    "# Standardize the dataset\n",
    "pipelines = []\n",
    "pipelines.append(( 'ScaledLR' , Pipeline([( 'Scaler' , StandardScaler()),( 'LR' ,\n",
    "    LinearRegression())])))\n",
    "pipelines.append(( 'ScaledLASSO' , Pipeline([( 'Scaler' , StandardScaler()),( 'LASSO' ,\n",
    "    Lasso())])))\n",
    "\n",
    "pipelines.append(( 'ScaledEN' , Pipeline([( 'Scaler' , StandardScaler()),( 'EN' ,\n",
    "    ElasticNet())])))\n",
    "pipelines.append(( 'ScaledKNN' , Pipeline([( 'Scaler' , StandardScaler()),( 'KNN' ,\n",
    "    KNeighborsRegressor())])))\n",
    "pipelines.append(( 'ScaledCART' , Pipeline([( 'Scaler' , StandardScaler()),( 'CART' ,\n",
    "    DecisionTreeRegressor())])))\n",
    "#pipelines.append(( 'ScaledSVR' , Pipeline([( Scaler , StandardScaler()),( SVR , SVR())])))\n",
    "results = []\n",
    "names = []\n",
    "for name, model in pipelines:\n",
    "                          kfold = KFold(n_splits=num_folds)\n",
    "                          cv_results = cross_val_score(model, train_inputs, train_targets, cv=kfold, scoring=scoring)\n",
    "                          results.append(cv_results)\n",
    "                          names.append(name)\n",
    "                          msg = \"%s: %f (%f)\" % (name, cv_results.mean(), cv_results.std())\n",
    "                          print(msg)"
   ]
  },
  {
   "cell_type": "code",
   "execution_count": 62,
   "id": "b94f180d",
   "metadata": {},
   "outputs": [
    {
     "data": {
      "image/png": "[encoded data removed]",
      "text/plain": [
       "<Figure size 432x288 with 1 Axes>"
      ]
     },
     "metadata": {
      "needs_background": "light"
     },
     "output_type": "display_data"
    }
   ],
   "source": [
    "# Compare Algorithms\n",
    "fig = pyplot.figure()\n",
    "fig.suptitle( 'Scaled Algorithm Comparison ')\n",
    "ax = fig.add_subplot(111)\n",
    "pyplot.boxplot(results)\n",
    "ax.set_xticklabels(names)\n",
    "pyplot.show()"
   ]
  },
  {
   "cell_type": "code",
   "execution_count": 64,
   "id": "dda97794",
   "metadata": {},
   "outputs": [
    {
     "name": "stderr",
     "output_type": "stream",
     "text": [
      "/usr/local/lib/python3.8/dist-packages/sklearn/utils/validation.py:63: DataConversionWarning: A column-vector y was passed when a 1d array was expected. Please change the shape of y to (n_samples, ), for example using ravel().\n",
      "  return f(*args, **kwargs)\n",
      "/usr/local/lib/python3.8/dist-packages/sklearn/utils/validation.py:63: DataConversionWarning: A column-vector y was passed when a 1d array was expected. Please change the shape of y to (n_samples, ), for example using ravel().\n",
      "  return f(*args, **kwargs)\n",
      "/usr/local/lib/python3.8/dist-packages/sklearn/utils/validation.py:63: DataConversionWarning: A column-vector y was passed when a 1d array was expected. Please change the shape of y to (n_samples, ), for example using ravel().\n",
      "  return f(*args, **kwargs)\n",
      "/usr/local/lib/python3.8/dist-packages/sklearn/utils/validation.py:63: DataConversionWarning: A column-vector y was passed when a 1d array was expected. Please change the shape of y to (n_samples, ), for example using ravel().\n",
      "  return f(*args, **kwargs)\n",
      "/usr/local/lib/python3.8/dist-packages/sklearn/utils/validation.py:63: DataConversionWarning: A column-vector y was passed when a 1d array was expected. Please change the shape of y to (n_samples, ), for example using ravel().\n",
      "  return f(*args, **kwargs)\n",
      "/usr/local/lib/python3.8/dist-packages/sklearn/utils/validation.py:63: DataConversionWarning: A column-vector y was passed when a 1d array was expected. Please change the shape of y to (n_samples, ), for example using ravel().\n",
      "  return f(*args, **kwargs)\n",
      "/usr/local/lib/python3.8/dist-packages/sklearn/utils/validation.py:63: DataConversionWarning: A column-vector y was passed when a 1d array was expected. Please change the shape of y to (n_samples, ), for example using ravel().\n",
      "  return f(*args, **kwargs)\n",
      "/usr/local/lib/python3.8/dist-packages/sklearn/utils/validation.py:63: DataConversionWarning: A column-vector y was passed when a 1d array was expected. Please change the shape of y to (n_samples, ), for example using ravel().\n",
      "  return f(*args, **kwargs)\n",
      "/usr/local/lib/python3.8/dist-packages/sklearn/utils/validation.py:63: DataConversionWarning: A column-vector y was passed when a 1d array was expected. Please change the shape of y to (n_samples, ), for example using ravel().\n",
      "  return f(*args, **kwargs)\n",
      "/usr/local/lib/python3.8/dist-packages/sklearn/utils/validation.py:63: DataConversionWarning: A column-vector y was passed when a 1d array was expected. Please change the shape of y to (n_samples, ), for example using ravel().\n",
      "  return f(*args, **kwargs)\n"
     ]
    },
    {
     "name": "stdout",
     "output_type": "stream",
     "text": [
      "ScaledAB: -14.965137 (5.889391)\n"
     ]
    },
    {
     "name": "stderr",
     "output_type": "stream",
     "text": [
      "/usr/local/lib/python3.8/dist-packages/sklearn/utils/validation.py:63: DataConversionWarning: A column-vector y was passed when a 1d array was expected. Please change the shape of y to (n_samples, ), for example using ravel().\n",
      "  return f(*args, **kwargs)\n",
      "/usr/local/lib/python3.8/dist-packages/sklearn/utils/validation.py:63: DataConversionWarning: A column-vector y was passed when a 1d array was expected. Please change the shape of y to (n_samples, ), for example using ravel().\n",
      "  return f(*args, **kwargs)\n",
      "/usr/local/lib/python3.8/dist-packages/sklearn/utils/validation.py:63: DataConversionWarning: A column-vector y was passed when a 1d array was expected. Please change the shape of y to (n_samples, ), for example using ravel().\n",
      "  return f(*args, **kwargs)\n",
      "/usr/local/lib/python3.8/dist-packages/sklearn/utils/validation.py:63: DataConversionWarning: A column-vector y was passed when a 1d array was expected. Please change the shape of y to (n_samples, ), for example using ravel().\n",
      "  return f(*args, **kwargs)\n",
      "/usr/local/lib/python3.8/dist-packages/sklearn/utils/validation.py:63: DataConversionWarning: A column-vector y was passed when a 1d array was expected. Please change the shape of y to (n_samples, ), for example using ravel().\n",
      "  return f(*args, **kwargs)\n",
      "/usr/local/lib/python3.8/dist-packages/sklearn/utils/validation.py:63: DataConversionWarning: A column-vector y was passed when a 1d array was expected. Please change the shape of y to (n_samples, ), for example using ravel().\n",
      "  return f(*args, **kwargs)\n",
      "/usr/local/lib/python3.8/dist-packages/sklearn/utils/validation.py:63: DataConversionWarning: A column-vector y was passed when a 1d array was expected. Please change the shape of y to (n_samples, ), for example using ravel().\n",
      "  return f(*args, **kwargs)\n",
      "/usr/local/lib/python3.8/dist-packages/sklearn/utils/validation.py:63: DataConversionWarning: A column-vector y was passed when a 1d array was expected. Please change the shape of y to (n_samples, ), for example using ravel().\n",
      "  return f(*args, **kwargs)\n",
      "/usr/local/lib/python3.8/dist-packages/sklearn/utils/validation.py:63: DataConversionWarning: A column-vector y was passed when a 1d array was expected. Please change the shape of y to (n_samples, ), for example using ravel().\n",
      "  return f(*args, **kwargs)\n",
      "/usr/local/lib/python3.8/dist-packages/sklearn/utils/validation.py:63: DataConversionWarning: A column-vector y was passed when a 1d array was expected. Please change the shape of y to (n_samples, ), for example using ravel().\n",
      "  return f(*args, **kwargs)\n"
     ]
    },
    {
     "name": "stdout",
     "output_type": "stream",
     "text": [
      "ScaledGBM: -5.083098 (0.404787)\n"
     ]
    },
    {
     "name": "stderr",
     "output_type": "stream",
     "text": [
      "/usr/local/lib/python3.8/dist-packages/sklearn/pipeline.py:346: DataConversionWarning: A column-vector y was passed when a 1d array was expected. Please change the shape of y to (n_samples,), for example using ravel().\n",
      "  self._final_estimator.fit(Xt, y, **fit_params_last_step)\n",
      "/usr/local/lib/python3.8/dist-packages/sklearn/pipeline.py:346: DataConversionWarning: A column-vector y was passed when a 1d array was expected. Please change the shape of y to (n_samples,), for example using ravel().\n",
      "  self._final_estimator.fit(Xt, y, **fit_params_last_step)\n",
      "/usr/local/lib/python3.8/dist-packages/sklearn/pipeline.py:346: DataConversionWarning: A column-vector y was passed when a 1d array was expected. Please change the shape of y to (n_samples,), for example using ravel().\n",
      "  self._final_estimator.fit(Xt, y, **fit_params_last_step)\n",
      "/usr/local/lib/python3.8/dist-packages/sklearn/pipeline.py:346: DataConversionWarning: A column-vector y was passed when a 1d array was expected. Please change the shape of y to (n_samples,), for example using ravel().\n",
      "  self._final_estimator.fit(Xt, y, **fit_params_last_step)\n",
      "/usr/local/lib/python3.8/dist-packages/sklearn/pipeline.py:346: DataConversionWarning: A column-vector y was passed when a 1d array was expected. Please change the shape of y to (n_samples,), for example using ravel().\n",
      "  self._final_estimator.fit(Xt, y, **fit_params_last_step)\n",
      "/usr/local/lib/python3.8/dist-packages/sklearn/pipeline.py:346: DataConversionWarning: A column-vector y was passed when a 1d array was expected. Please change the shape of y to (n_samples,), for example using ravel().\n",
      "  self._final_estimator.fit(Xt, y, **fit_params_last_step)\n",
      "/usr/local/lib/python3.8/dist-packages/sklearn/pipeline.py:346: DataConversionWarning: A column-vector y was passed when a 1d array was expected. Please change the shape of y to (n_samples,), for example using ravel().\n",
      "  self._final_estimator.fit(Xt, y, **fit_params_last_step)\n",
      "/usr/local/lib/python3.8/dist-packages/sklearn/pipeline.py:346: DataConversionWarning: A column-vector y was passed when a 1d array was expected. Please change the shape of y to (n_samples,), for example using ravel().\n",
      "  self._final_estimator.fit(Xt, y, **fit_params_last_step)\n",
      "/usr/local/lib/python3.8/dist-packages/sklearn/pipeline.py:346: DataConversionWarning: A column-vector y was passed when a 1d array was expected. Please change the shape of y to (n_samples,), for example using ravel().\n",
      "  self._final_estimator.fit(Xt, y, **fit_params_last_step)\n",
      "/usr/local/lib/python3.8/dist-packages/sklearn/pipeline.py:346: DataConversionWarning: A column-vector y was passed when a 1d array was expected. Please change the shape of y to (n_samples,), for example using ravel().\n",
      "  self._final_estimator.fit(Xt, y, **fit_params_last_step)\n"
     ]
    },
    {
     "name": "stdout",
     "output_type": "stream",
     "text": [
      "ScaledRF: -5.629390 (0.400125)\n"
     ]
    },
    {
     "name": "stderr",
     "output_type": "stream",
     "text": [
      "/usr/local/lib/python3.8/dist-packages/sklearn/pipeline.py:346: DataConversionWarning: A column-vector y was passed when a 1d array was expected. Please change the shape of y to (n_samples,), for example using ravel().\n",
      "  self._final_estimator.fit(Xt, y, **fit_params_last_step)\n",
      "/usr/local/lib/python3.8/dist-packages/sklearn/pipeline.py:346: DataConversionWarning: A column-vector y was passed when a 1d array was expected. Please change the shape of y to (n_samples,), for example using ravel().\n",
      "  self._final_estimator.fit(Xt, y, **fit_params_last_step)\n",
      "/usr/local/lib/python3.8/dist-packages/sklearn/pipeline.py:346: DataConversionWarning: A column-vector y was passed when a 1d array was expected. Please change the shape of y to (n_samples,), for example using ravel().\n",
      "  self._final_estimator.fit(Xt, y, **fit_params_last_step)\n",
      "/usr/local/lib/python3.8/dist-packages/sklearn/pipeline.py:346: DataConversionWarning: A column-vector y was passed when a 1d array was expected. Please change the shape of y to (n_samples,), for example using ravel().\n",
      "  self._final_estimator.fit(Xt, y, **fit_params_last_step)\n",
      "/usr/local/lib/python3.8/dist-packages/sklearn/pipeline.py:346: DataConversionWarning: A column-vector y was passed when a 1d array was expected. Please change the shape of y to (n_samples,), for example using ravel().\n",
      "  self._final_estimator.fit(Xt, y, **fit_params_last_step)\n",
      "/usr/local/lib/python3.8/dist-packages/sklearn/pipeline.py:346: DataConversionWarning: A column-vector y was passed when a 1d array was expected. Please change the shape of y to (n_samples,), for example using ravel().\n",
      "  self._final_estimator.fit(Xt, y, **fit_params_last_step)\n",
      "/usr/local/lib/python3.8/dist-packages/sklearn/pipeline.py:346: DataConversionWarning: A column-vector y was passed when a 1d array was expected. Please change the shape of y to (n_samples,), for example using ravel().\n",
      "  self._final_estimator.fit(Xt, y, **fit_params_last_step)\n",
      "/usr/local/lib/python3.8/dist-packages/sklearn/pipeline.py:346: DataConversionWarning: A column-vector y was passed when a 1d array was expected. Please change the shape of y to (n_samples,), for example using ravel().\n",
      "  self._final_estimator.fit(Xt, y, **fit_params_last_step)\n",
      "/usr/local/lib/python3.8/dist-packages/sklearn/pipeline.py:346: DataConversionWarning: A column-vector y was passed when a 1d array was expected. Please change the shape of y to (n_samples,), for example using ravel().\n",
      "  self._final_estimator.fit(Xt, y, **fit_params_last_step)\n",
      "/usr/local/lib/python3.8/dist-packages/sklearn/pipeline.py:346: DataConversionWarning: A column-vector y was passed when a 1d array was expected. Please change the shape of y to (n_samples,), for example using ravel().\n",
      "  self._final_estimator.fit(Xt, y, **fit_params_last_step)\n"
     ]
    },
    {
     "name": "stdout",
     "output_type": "stream",
     "text": [
      "ScaledET: -6.301786 (0.406358)\n"
     ]
    }
   ],
   "source": [
    "# ensembles\n",
    "ensembles = []\n",
    "ensembles.append(( 'ScaledAB' , Pipeline([( 'Scaler' , StandardScaler()),( 'AB' ,\n",
    "    AdaBoostRegressor())])))\n",
    "ensembles.append(( 'ScaledGBM' , Pipeline([( 'Scaler' , StandardScaler()),( 'GBM' ,\n",
    "    GradientBoostingRegressor())])))\n",
    "ensembles.append(( 'ScaledRF' , Pipeline([( 'Scaler' , StandardScaler()),( 'RF' ,\n",
    "    RandomForestRegressor())])))\n",
    "ensembles.append(( 'ScaledET' , Pipeline([( 'Scaler' , StandardScaler()),( 'ET' ,\n",
    "    ExtraTreesRegressor())])))\n",
    "\n",
    "results = []\n",
    "names = []\n",
    "for name, model in ensembles:\n",
    "                          kfold = KFold(n_splits=num_folds)\n",
    "                          cv_results = cross_val_score(model, train_inputs, train_targets, cv=kfold, scoring=scoring)\n",
    "                          results.append(cv_results)\n",
    "                          names.append(name)\n",
    "                          msg = \"%s: %f (%f)\" % (name, cv_results.mean(), cv_results.std())\n",
    "                          print(msg)"
   ]
  },
  {
   "cell_type": "code",
   "execution_count": 66,
   "id": "1900f9ac",
   "metadata": {},
   "outputs": [
    {
     "data": {
      "image/png": "[encoded data removed]",
      "text/plain": [
       "<Figure size 432x288 with 1 Axes>"
      ]
     },
     "metadata": {
      "needs_background": "light"
     },
     "output_type": "display_data"
    }
   ],
   "source": [
    "# Compare Algorithms\n",
    "fig = pyplot.figure()\n",
    "fig.suptitle( 'Scaled Ensemble Algorithm Comparison' )\n",
    "ax = fig.add_subplot(111)\n",
    "pyplot.boxplot(results)\n",
    "ax.set_xticklabels(names)\n",
    "pyplot.show()"
   ]
  },
  {
   "cell_type": "code",
   "execution_count": null,
   "id": "04385458",
   "metadata": {},
   "outputs": [],
   "source": []
  }
 ],
 "metadata": {
  "kernelspec": {
   "display_name": "Python 3 (ipykernel)",
   "language": "python",
   "name": "python3"
  },
  "language_info": {
   "codemirror_mode": {
    "name": "ipython",
    "version": 3
   },
   "file_extension": ".py",
   "mimetype": "text/x-python",
   "name": "python",
   "nbconvert_exporter": "python",
   "pygments_lexer": "ipython3",
   "version": "3.8.10"
  }
 },
 "nbformat": 4,
 "nbformat_minor": 5
}
